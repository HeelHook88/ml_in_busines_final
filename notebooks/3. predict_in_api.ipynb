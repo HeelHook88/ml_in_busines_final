{
 "cells": [
  {
   "cell_type": "code",
   "execution_count": 1,
   "metadata": {},
   "outputs": [
    {
     "name": "stderr",
     "output_type": "stream",
     "text": [
      "C:\\conda\\lib\\site-packages\\sklearn\\utils\\deprecation.py:143: FutureWarning: The sklearn.metrics.scorer module is  deprecated in version 0.22 and will be removed in version 0.24. The corresponding classes / functions should instead be imported from sklearn.metrics. Anything that cannot be imported from sklearn.metrics is now part of the private API.\n",
      "  warnings.warn(message, FutureWarning)\n"
     ]
    }
   ],
   "source": [
    "import pandas as pd\n",
    "import urllib.request\n",
    "import json \n",
    "from sklearn.metrics import roc_auc_score,roc_curve,scorer\n",
    "from urllib import request, parse\n",
    "\n",
    "def get_prediction(field_array=None, myurl=None):\n",
    "    \"\"\"\n",
    "    Input parameters:\n",
    "        field_array: python list - contains raw fields needed to make a prediction\n",
    "        myurl: REST API url\n",
    "    Returns:\n",
    "        result: float - model prediction\n",
    "    \"\"\"\n",
    "    result = 0\n",
    "    \n",
    "    Age, BMI, Glucose, Insulin, HOMA, Leptin, Adiponectin, Resistin, MCP_1= field_array\n",
    "\n",
    "    body = {\n",
    "        'Age': Age,\n",
    "        'BMI': BMI,\n",
    "        'Glucose': Glucose,\n",
    "        'Insulin': Insulin,\n",
    "        'HOMA': HOMA,\n",
    "        'Leptin': Leptin,\n",
    "        'Adiponectin': Adiponectin,\n",
    "        'Resistin': Resistin,\n",
    "        'MCP_1': MCP_1,\n",
    "        } \n",
    "\n",
    "    req = urllib.request.Request(myurl)\n",
    "    req.add_header('Content-Type', 'application/json; charset=utf-8')\n",
    "    jsondata = json.dumps(body)\n",
    "    jsondataasbytes = jsondata.encode('utf-8')   # needs to be bytes\n",
    "    req.add_header('Content-Length', len(jsondataasbytes))\n",
    "    response = urllib.request.urlopen(req, jsondataasbytes)\n",
    "    \n",
    "    return json.loads(response.read())['predictions']\n",
    "\n",
    "API_URL = \"http://127.0.0.1:8180/predict\"\n",
    "\n"
   ]
  },
  {
   "cell_type": "code",
   "execution_count": 2,
   "metadata": {},
   "outputs": [],
   "source": [
    "X_test = pd.read_csv(\"X_test.csv\")\n",
    "y_test = pd.read_csv(\"y_test.csv\")"
   ]
  },
  {
   "cell_type": "code",
   "execution_count": 3,
   "metadata": {},
   "outputs": [],
   "source": [
    "X_test = X_test.drop('target',1)"
   ]
  },
  {
   "cell_type": "code",
   "execution_count": 4,
   "metadata": {},
   "outputs": [
    {
     "name": "stdout",
     "output_type": "stream",
     "text": [
      "Wall time: 551 ms\n"
     ]
    }
   ],
   "source": [
    "%%time\n",
    "predictions = X_test.apply(lambda x: get_prediction(x, API_URL), 1)"
   ]
  },
  {
   "cell_type": "code",
   "execution_count": 5,
   "metadata": {},
   "outputs": [
    {
     "data": {
      "text/plain": [
       "0     0.937920\n",
       "1     0.280676\n",
       "2     0.050025\n",
       "3     0.031215\n",
       "4     0.097310\n",
       "5     0.038017\n",
       "6     0.937657\n",
       "7     0.043044\n",
       "8     0.470318\n",
       "9     0.154509\n",
       "10    0.036797\n",
       "11    0.967426\n",
       "12    0.854128\n",
       "13    0.119061\n",
       "14    0.532982\n",
       "15    0.113186\n",
       "16    0.813683\n",
       "17    0.511145\n",
       "18    0.876605\n",
       "19    0.086296\n",
       "20    0.985863\n",
       "21    0.989603\n",
       "22    0.840694\n",
       "23    0.097310\n",
       "24    0.229303\n",
       "25    0.703904\n",
       "26    0.985863\n",
       "27    0.603643\n",
       "28    0.948987\n",
       "29    0.173085\n",
       "30    0.681497\n",
       "31    0.014225\n",
       "32    0.400505\n",
       "33    0.898796\n",
       "34    0.952751\n",
       "dtype: float64"
      ]
     },
     "execution_count": 5,
     "metadata": {},
     "output_type": "execute_result"
    }
   ],
   "source": [
    "predictions\n"
   ]
  },
  {
   "cell_type": "code",
   "execution_count": null,
   "metadata": {},
   "outputs": [],
   "source": []
  }
 ],
 "metadata": {
  "kernelspec": {
   "display_name": "Python 3",
   "language": "python",
   "name": "python3"
  },
  "language_info": {
   "codemirror_mode": {
    "name": "ipython",
    "version": 3
   },
   "file_extension": ".py",
   "mimetype": "text/x-python",
   "name": "python",
   "nbconvert_exporter": "python",
   "pygments_lexer": "ipython3",
   "version": "3.8.5"
  }
 },
 "nbformat": 4,
 "nbformat_minor": 4
}
